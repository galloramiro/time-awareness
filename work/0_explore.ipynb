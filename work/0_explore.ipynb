{
 "cells": [
  {
   "cell_type": "code",
   "execution_count": 7,
   "metadata": {},
   "outputs": [],
   "source": [
    "# Models\n",
    "from models import GoogleCalendarTable\n",
    "\n",
    "# Utils\n",
    "from datetime import datetime\n",
    "from os import getcwd\n",
    "import pandas as pd\n",
    "from utils import GoogleCalendarClient\n"
   ]
  },
  {
   "cell_type": "code",
   "execution_count": 8,
   "metadata": {},
   "outputs": [],
   "source": [
    "class CsvGeneratorService:\n",
    "    \n",
    "    def __init__(self, client=GoogleCalendarClient()):\n",
    "        self.CLIENT = client\n",
    "        \n",
    "    def generate_crud_csv_file(self, calendars_names: list):\n",
    "        \"\"\"Generate crud csv files based on a list of calendars names\"\"\"\n",
    "        \n",
    "        for calendar_name in calendars_names:\n",
    "            calendar_events = self.CLIENT.get_calendar_events(calendar_name)\n",
    "            gc_table = GoogleCalendarTable().events_to_table(calendar_events)\n",
    "            df = pd.DataFrame(gc_table.__dict__)\n",
    "            today = str(datetime.now().date())\n",
    "            file_name = f\"{today}_{calendar_name}.csv\"\n",
    "            df.to_csv(f\"{getcwd()}/data/{file_name}\", index=False)\n",
    "            print(f\"The CSV was saved under the name: {file_name}\")\n",
    "    \n",
    "    "
   ]
  },
  {
   "cell_type": "code",
   "execution_count": 9,
   "metadata": {},
   "outputs": [],
   "source": [
    "csv_gen_service = CsvGeneratorService()\n",
    "gctable = csv_gen_service.generate_crud_csv_file(['dev_back_end'])"
   ]
  },
  {
   "cell_type": "code",
   "execution_count": null,
   "metadata": {},
   "outputs": [],
   "source": [
    "df.to_csv('./data/{}_sprint.csv'.format(start_date), index=False) \n",
    "vars(gctable)"
   ]
  },
  {
   "cell_type": "code",
   "execution_count": 6,
   "metadata": {},
   "outputs": [
    {
     "data": {
      "text/plain": [
       "'2020-03-26'"
      ]
     },
     "execution_count": 6,
     "metadata": {},
     "output_type": "execute_result"
    }
   ],
   "source": [
    "str(datetime.now().date())"
   ]
  },
  {
   "cell_type": "code",
   "execution_count": null,
   "metadata": {},
   "outputs": [],
   "source": []
  }
 ],
 "metadata": {
  "kernelspec": {
   "display_name": "Python 3",
   "language": "python",
   "name": "python3"
  },
  "language_info": {
   "codemirror_mode": {
    "name": "ipython",
    "version": 3
   },
   "file_extension": ".py",
   "mimetype": "text/x-python",
   "name": "python",
   "nbconvert_exporter": "python",
   "pygments_lexer": "ipython3",
   "version": "3.7.3"
  }
 },
 "nbformat": 4,
 "nbformat_minor": 4
}
