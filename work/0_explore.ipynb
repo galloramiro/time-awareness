{
 "cells": [
  {
   "cell_type": "code",
   "execution_count": 2,
   "metadata": {},
   "outputs": [],
   "source": [
    "from utils import CsvGeneratorService"
   ]
  },
  {
   "cell_type": "code",
   "execution_count": 3,
   "metadata": {},
   "outputs": [
    {
     "data": {
      "text/html": [
       "<div>\n",
       "<style scoped>\n",
       "    .dataframe tbody tr th:only-of-type {\n",
       "        vertical-align: middle;\n",
       "    }\n",
       "\n",
       "    .dataframe tbody tr th {\n",
       "        vertical-align: top;\n",
       "    }\n",
       "\n",
       "    .dataframe thead th {\n",
       "        text-align: right;\n",
       "    }\n",
       "</style>\n",
       "<table border=\"1\" class=\"dataframe\">\n",
       "  <thead>\n",
       "    <tr style=\"text-align: right;\">\n",
       "      <th></th>\n",
       "      <th>start_date</th>\n",
       "      <th>total_issues</th>\n",
       "      <th>total_hours</th>\n",
       "    </tr>\n",
       "  </thead>\n",
       "  <tbody>\n",
       "    <tr>\n",
       "      <th>0</th>\n",
       "      <td>2019-07-31</td>\n",
       "      <td>3</td>\n",
       "      <td>60:0</td>\n",
       "    </tr>\n",
       "    <tr>\n",
       "      <th>1</th>\n",
       "      <td>2019-08-31</td>\n",
       "      <td>12</td>\n",
       "      <td>55:25</td>\n",
       "    </tr>\n",
       "    <tr>\n",
       "      <th>2</th>\n",
       "      <td>2019-09-30</td>\n",
       "      <td>12</td>\n",
       "      <td>76:20</td>\n",
       "    </tr>\n",
       "    <tr>\n",
       "      <th>3</th>\n",
       "      <td>2019-10-31</td>\n",
       "      <td>10</td>\n",
       "      <td>90:5</td>\n",
       "    </tr>\n",
       "  </tbody>\n",
       "</table>\n",
       "</div>"
      ],
      "text/plain": [
       "  start_date  total_issues total_hours\n",
       "0 2019-07-31             3        60:0\n",
       "1 2019-08-31            12       55:25\n",
       "2 2019-09-30            12       76:20\n",
       "3 2019-10-31            10        90:5"
      ]
     },
     "execution_count": 3,
     "metadata": {},
     "output_type": "execute_result"
    }
   ],
   "source": [
    "csv_gen_service = CsvGeneratorService()\n",
    "df = csv_gen_service.issues_duration_by_month('2020-03-26_dev_back_end.csv')\n",
    "df"
   ]
  },
  {
   "cell_type": "code",
   "execution_count": 2,
   "metadata": {},
   "outputs": [],
   "source": []
  },
  {
   "cell_type": "markdown",
   "metadata": {},
   "source": [
    "Ahora necesito saber cuanto tiempo le dedique a front y back   \n",
    "Para eso tengo que agrupar primero uno que incluya sat, irriapp y tracking engine  \n",
    "después uno que incluya a front-end  \n",
    "agrupar ahí por mes y hacer el mismo proceso y retornar uno que incluya en el mes cuanto dedique a cada uno.  \n",
    "  \n",
    "Hacer un refactor donde se cree una clase nueva que sea by month, herede de CSV service generator y automáticamente en el init cree el df   "
   ]
  },
  {
   "cell_type": "code",
   "execution_count": null,
   "metadata": {},
   "outputs": [],
   "source": []
  }
 ],
 "metadata": {
  "kernelspec": {
   "display_name": "Python 3",
   "language": "python",
   "name": "python3"
  },
  "language_info": {
   "codemirror_mode": {
    "name": "ipython",
    "version": 3
   },
   "file_extension": ".py",
   "mimetype": "text/x-python",
   "name": "python",
   "nbconvert_exporter": "python",
   "pygments_lexer": "ipython3",
   "version": "3.7.3"
  }
 },
 "nbformat": 4,
 "nbformat_minor": 4
}
