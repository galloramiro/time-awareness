{
 "cells": [
  {
   "cell_type": "code",
   "execution_count": 1,
   "metadata": {},
   "outputs": [],
   "source": [
    "import pandas as pd\n",
    "from utils import CsvGeneratorService, CsvByMonthService"
   ]
  },
  {
   "cell_type": "code",
   "execution_count": 2,
   "metadata": {},
   "outputs": [
    {
     "name": "stdout",
     "output_type": "stream",
     "text": [
      "The CSV was saved under the name: crud_2020-03-29_dev_back_end.csv\n",
      "The CSV was saved under the name: by_month_and_total_hours_2020-03-29_dev_back_end.csv\n",
      "The CSV was saved under the name: by_month_and_total_hours_by_repo_and_month_2020-03-29_dev_back_end.csv\n"
     ]
    }
   ],
   "source": [
    "csv_gen_service = CsvByMonthService()\n",
    "csv_gen_service.generate_crud_csv_file(['dev_back_end'])\n",
    "csv_gen_service.issues_and_total_hours_by_month('crud_2020-03-29_dev_back_end.csv')\n",
    "csv_gen_service.issues_and_total_hours_by_repository_and_month('crud_2020-03-29_dev_back_end.csv')\n"
   ]
  },
  {
   "cell_type": "code",
   "execution_count": null,
   "metadata": {},
   "outputs": [],
   "source": []
  },
  {
   "cell_type": "markdown",
   "metadata": {},
   "source": [
    "Ahora necesito saber cuanto tiempo le dedique a front y back   \n",
    "Para eso tengo que agrupar primero uno que incluya sat, irriapp y tracking engine  \n",
    "después uno que incluya a front-end  \n",
    "agrupar ahí por mes y hacer el mismo proceso y retornar uno que incluya en el mes cuanto dedique a cada uno.  \n",
    "  \n",
    "Hacer un refactor donde se cree una clase nueva que sea by month, herede de CSV service generator y automáticamente en el init cree el df   "
   ]
  },
  {
   "cell_type": "code",
   "execution_count": null,
   "metadata": {},
   "outputs": [],
   "source": []
  }
 ],
 "metadata": {
  "kernelspec": {
   "display_name": "Python 3",
   "language": "python",
   "name": "python3"
  },
  "language_info": {
   "codemirror_mode": {
    "name": "ipython",
    "version": 3
   },
   "file_extension": ".py",
   "mimetype": "text/x-python",
   "name": "python",
   "nbconvert_exporter": "python",
   "pygments_lexer": "ipython3",
   "version": "3.7.3"
  }
 },
 "nbformat": 4,
 "nbformat_minor": 4
}
